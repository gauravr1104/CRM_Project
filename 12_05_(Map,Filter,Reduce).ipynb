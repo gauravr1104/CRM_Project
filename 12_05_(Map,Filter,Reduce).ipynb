{
  "nbformat": 4,
  "nbformat_minor": 0,
  "metadata": {
    "colab": {
      "provenance": [],
      "authorship_tag": "ABX9TyNWI+tiSZl7gBaVk2kRq+vK",
      "include_colab_link": true
    },
    "kernelspec": {
      "name": "python3",
      "display_name": "Python 3"
    },
    "language_info": {
      "name": "python"
    }
  },
  "cells": [
    {
      "cell_type": "markdown",
      "metadata": {
        "id": "view-in-github",
        "colab_type": "text"
      },
      "source": [
        "<a href=\"https://colab.research.google.com/github/gauravr1104/CRM_Project/blob/main/12_05_(Map%2CFilter%2CReduce).ipynb\" target=\"_parent\"><img src=\"https://colab.research.google.com/assets/colab-badge.svg\" alt=\"Open In Colab\"/></a>"
      ]
    },
    {
      "cell_type": "markdown",
      "source": [
        "# **MAP**"
      ],
      "metadata": {
        "id": "MOPlUMdJM6kJ"
      }
    },
    {
      "cell_type": "markdown",
      "source": [
        "1. Explain the purpose of the `map()` function in Python and provide an example of how it can be used to apply a function to each element of an iterable."
      ],
      "metadata": {
        "id": "-LgCC9tONBfw"
      }
    },
    {
      "cell_type": "code",
      "execution_count": 5,
      "metadata": {
        "colab": {
          "base_uri": "https://localhost:8080/"
        },
        "id": "Gq__E434L6NY",
        "outputId": "42d66e93-1cdb-4481-952b-fe5a62a1fe41"
      },
      "outputs": [
        {
          "output_type": "execute_result",
          "data": {
            "text/plain": [
              "[1, 2, 3, 4, 5]"
            ]
          },
          "metadata": {},
          "execution_count": 5
        }
      ],
      "source": [
        "#Map function is used to assign an funtion to the every element of a of any interable. For example:\n",
        "a=['1','2','3','4','5']\n",
        "x=list(map(int,a))\n",
        "x\n"
      ]
    },
    {
      "cell_type": "markdown",
      "source": [
        "2. Write a Python program that uses the `map()` function to square each element of a list of numbers."
      ],
      "metadata": {
        "id": "B4rajpuGOy_2"
      }
    },
    {
      "cell_type": "code",
      "source": [
        "a=[1,2,3,4,5]\n",
        "def square(x):\n",
        "    return x**2\n",
        "\n",
        "y=list(map(square, a ))\n",
        "y"
      ],
      "metadata": {
        "colab": {
          "base_uri": "https://localhost:8080/"
        },
        "id": "h-JOeQCOOMYL",
        "outputId": "8b8877f1-2e66-414f-c598-c9fccc1d569c"
      },
      "execution_count": 15,
      "outputs": [
        {
          "output_type": "execute_result",
          "data": {
            "text/plain": [
              "[1, 4, 9, 16, 25]"
            ]
          },
          "metadata": {},
          "execution_count": 15
        }
      ]
    },
    {
      "cell_type": "markdown",
      "source": [
        "3. How does the `map()` function differ from a list comprehension in Python, and when would you choose one over the other?"
      ],
      "metadata": {
        "id": "WyCB2hBMRNK4"
      }
    },
    {
      "cell_type": "code",
      "source": [
        "'''List comprehension and map() both transform iterables but differ in syntax and performance.\n",
        "List comprehension is concise as the logic is applied in one line\n",
        "while map() applies a function to each item and returns an iterator and offering better memory efficiency for large datasets'''"
      ],
      "metadata": {
        "colab": {
          "base_uri": "https://localhost:8080/",
          "height": 52
        },
        "id": "JxNXmd9qRM3b",
        "outputId": "1ec3d94d-1c07-47fa-f062-364163637632"
      },
      "execution_count": 16,
      "outputs": [
        {
          "output_type": "execute_result",
          "data": {
            "text/plain": [
              "'List comprehension and map() both transform iterables but differ in syntax and performance.\\nList comprehension is concise as the logic is applied in one line  \\nwhile map() applies a function to each item and returns an iterator and offering better memory efficiency for large datasets'"
            ],
            "application/vnd.google.colaboratory.intrinsic+json": {
              "type": "string"
            }
          },
          "metadata": {},
          "execution_count": 16
        }
      ]
    },
    {
      "cell_type": "markdown",
      "source": [
        "4. Create a Python program that uses the `map()` function to convert a list of names to uppercase."
      ],
      "metadata": {
        "id": "tlEApoPGR0JQ"
      }
    },
    {
      "cell_type": "code",
      "source": [
        "fruits=[\"apple\",\"banana\",\"orange\"]\n",
        "a=list(map(lambda x: x.upper(),fruits))\n",
        "a\n"
      ],
      "metadata": {
        "colab": {
          "base_uri": "https://localhost:8080/"
        },
        "id": "kQxaNWIvQpn4",
        "outputId": "b1df172c-1e8d-49fc-9aa3-706b4bb21096"
      },
      "execution_count": 23,
      "outputs": [
        {
          "output_type": "execute_result",
          "data": {
            "text/plain": [
              "['APPLE', 'BANANA', 'ORANGE']"
            ]
          },
          "metadata": {},
          "execution_count": 23
        }
      ]
    },
    {
      "cell_type": "markdown",
      "source": [
        "5. Write a Python program that uses the `map()` function to calculate the length of each word in a list of strings."
      ],
      "metadata": {
        "id": "N4WBLWcjTgIe"
      }
    },
    {
      "cell_type": "code",
      "source": [
        "x=[\"Gaurav\",\"Aditya\",\"Aman\",\"Dinesh\"]\n",
        "a=list(map(len,x))\n",
        "a"
      ],
      "metadata": {
        "colab": {
          "base_uri": "https://localhost:8080/"
        },
        "id": "IDNLfnRTS2ws",
        "outputId": "ede3394f-6013-416d-9405-1613b7a54616"
      },
      "execution_count": 25,
      "outputs": [
        {
          "output_type": "execute_result",
          "data": {
            "text/plain": [
              "[6, 6, 4, 6]"
            ]
          },
          "metadata": {},
          "execution_count": 25
        }
      ]
    },
    {
      "cell_type": "markdown",
      "source": [
        "6. How can you use the `map()` function to apply a custom function to elements of multiple lists simultaneously in Python?"
      ],
      "metadata": {
        "id": "bXCR7mttUZ3R"
      }
    },
    {
      "cell_type": "code",
      "source": [
        "x=[1,2,3,4,5]\n",
        "y=[2,3,4,5,6]\n",
        "a=list(map(lambda b,c: b*c,x,y))\n",
        "a"
      ],
      "metadata": {
        "colab": {
          "base_uri": "https://localhost:8080/"
        },
        "id": "ljClkNwlUA6c",
        "outputId": "077bb504-083e-425d-f790-87c0af99b2ec"
      },
      "execution_count": 50,
      "outputs": [
        {
          "output_type": "execute_result",
          "data": {
            "text/plain": [
              "[2, 6, 12, 20, 30]"
            ]
          },
          "metadata": {},
          "execution_count": 50
        }
      ]
    },
    {
      "cell_type": "markdown",
      "source": [
        "7. Create a Python program that uses `map()` to convert a list of temperatures from Celsius to Fahrenheit."
      ],
      "metadata": {
        "id": "iX0xHfEdWQPi"
      }
    },
    {
      "cell_type": "code",
      "source": [
        "a=[0,1,2,3,4,5]\n",
        "def f(c):\n",
        "    return (c * 9/5) + 32\n",
        "x=list(map(f,a))\n",
        "x"
      ],
      "metadata": {
        "colab": {
          "base_uri": "https://localhost:8080/"
        },
        "id": "qq4oA2EBWPs0",
        "outputId": "914630c1-84ec-4970-b0cd-c02a359d13aa"
      },
      "execution_count": 29,
      "outputs": [
        {
          "output_type": "execute_result",
          "data": {
            "text/plain": [
              "[32.0, 33.8, 35.6, 37.4, 39.2, 41.0]"
            ]
          },
          "metadata": {},
          "execution_count": 29
        }
      ]
    },
    {
      "cell_type": "markdown",
      "source": [
        "8. Write a Python program that uses the `map()` function to round each element of a list of floating-point numbers to the nearest integer."
      ],
      "metadata": {
        "id": "QAMI5ZS1W180"
      }
    },
    {
      "cell_type": "code",
      "source": [
        "a=[1.5,4.6,2.6,7.3,10.39999]\n",
        "x=list(map(round,a))\n",
        "x"
      ],
      "metadata": {
        "colab": {
          "base_uri": "https://localhost:8080/"
        },
        "id": "Uk-U6otqWH2b",
        "outputId": "a6261fb6-0629-49e4-b539-de2c9d262e2c"
      },
      "execution_count": 33,
      "outputs": [
        {
          "output_type": "execute_result",
          "data": {
            "text/plain": [
              "[2, 5, 3, 7, 10]"
            ]
          },
          "metadata": {},
          "execution_count": 33
        }
      ]
    },
    {
      "cell_type": "markdown",
      "source": [
        "## **Reduce**"
      ],
      "metadata": {
        "id": "82PJ21wtXVQ9"
      }
    },
    {
      "cell_type": "markdown",
      "source": [
        "1. What is the `reduce()` function in Python, and what module should you import to use it? Provide an example of its basic usage."
      ],
      "metadata": {
        "id": "pJXFRQW8XqQi"
      }
    },
    {
      "cell_type": "code",
      "source": [
        "'''Reduce() is a binary function (a function that takes two arguments) cumulatively to the items in an iterable,\n",
        "so as to reduce the iterable to a single value.we import reduce from functools library '''\n",
        "\n",
        "from functools import reduce\n",
        "l=[1,2,3,4,5,6]\n",
        "a = reduce(lambda x,y: x+y , l)\n",
        "a"
      ],
      "metadata": {
        "colab": {
          "base_uri": "https://localhost:8080/"
        },
        "id": "jjnn-sIlXL_j",
        "outputId": "9d7b102c-c81a-4fa9-aff4-866b3e36b4c7"
      },
      "execution_count": 34,
      "outputs": [
        {
          "output_type": "execute_result",
          "data": {
            "text/plain": [
              "21"
            ]
          },
          "metadata": {},
          "execution_count": 34
        }
      ]
    },
    {
      "cell_type": "markdown",
      "source": [
        "2. Write a Python program that uses the `reduce()` function to find the product of all elements in a list."
      ],
      "metadata": {
        "id": "8Jjp9-sRZN6f"
      }
    },
    {
      "cell_type": "code",
      "source": [
        "l=[1,2,3,4,5]\n",
        "a = reduce(lambda x,y: x*y , l)\n",
        "a"
      ],
      "metadata": {
        "colab": {
          "base_uri": "https://localhost:8080/"
        },
        "id": "xnsenXmMZJTc",
        "outputId": "f0f19673-29dd-49e7-b2be-b248b10f5898"
      },
      "execution_count": 35,
      "outputs": [
        {
          "output_type": "execute_result",
          "data": {
            "text/plain": [
              "120"
            ]
          },
          "metadata": {},
          "execution_count": 35
        }
      ]
    },
    {
      "cell_type": "markdown",
      "source": [
        "3. Create a Python program that uses `reduce()` to find the maximum element in a list of numbers."
      ],
      "metadata": {
        "id": "PIGo0CSUZYmf"
      }
    },
    {
      "cell_type": "code",
      "source": [
        "l=[1,2,3,4,5]\n",
        "a = reduce(max, l)\n",
        "a"
      ],
      "metadata": {
        "colab": {
          "base_uri": "https://localhost:8080/"
        },
        "id": "fUEytlpSZXoL",
        "outputId": "7bedb4e6-590d-4b49-bf7a-bfba55239c41"
      },
      "execution_count": 38,
      "outputs": [
        {
          "output_type": "execute_result",
          "data": {
            "text/plain": [
              "5"
            ]
          },
          "metadata": {},
          "execution_count": 38
        }
      ]
    },
    {
      "cell_type": "markdown",
      "source": [
        "4. How can you use the `reduce()` function to concatenate a list of strings into a single string?\n"
      ],
      "metadata": {
        "id": "fqbSUCrQZ_YU"
      }
    },
    {
      "cell_type": "code",
      "source": [
        "l=['A','B','C']\n",
        "a = reduce(lambda x,y: x+y, l)\n",
        "a"
      ],
      "metadata": {
        "colab": {
          "base_uri": "https://localhost:8080/",
          "height": 35
        },
        "id": "GmATW12jZrRA",
        "outputId": "20656cfa-3212-4f98-9460-e5c3bdeb962d"
      },
      "execution_count": 41,
      "outputs": [
        {
          "output_type": "execute_result",
          "data": {
            "text/plain": [
              "'ABC'"
            ],
            "application/vnd.google.colaboratory.intrinsic+json": {
              "type": "string"
            }
          },
          "metadata": {},
          "execution_count": 41
        }
      ]
    },
    {
      "cell_type": "markdown",
      "source": [
        "5. Write a Python program that calculates the factorial of a number using the `reduce()` function."
      ],
      "metadata": {
        "id": "F1AG_oG0aetD"
      }
    },
    {
      "cell_type": "code",
      "source": [
        "n=int(input(\"enter a no.\"))\n",
        "fact =  reduce(lambda x,y : x*y , range(1,n+1))\n",
        "fact"
      ],
      "metadata": {
        "colab": {
          "base_uri": "https://localhost:8080/"
        },
        "id": "ZAlFokNkai_w",
        "outputId": "e2795d85-d142-422f-9c10-9dfe18feb230"
      },
      "execution_count": 44,
      "outputs": [
        {
          "name": "stdout",
          "output_type": "stream",
          "text": [
            "enter a no.6\n"
          ]
        },
        {
          "output_type": "execute_result",
          "data": {
            "text/plain": [
              "720"
            ]
          },
          "metadata": {},
          "execution_count": 44
        }
      ]
    },
    {
      "cell_type": "markdown",
      "source": [
        "6. Create a Python program that uses `reduce()` to find the GCD (Greatest Common Divisor) of a list of numbers.\n"
      ],
      "metadata": {
        "id": "0Um8L-tHa7Dl"
      }
    },
    {
      "cell_type": "code",
      "source": [
        "l=[48,72,120,24,36]\n",
        "from math import gcd\n",
        "reduce(gcd,l)"
      ],
      "metadata": {
        "colab": {
          "base_uri": "https://localhost:8080/"
        },
        "id": "Zpnpcey3a9YF",
        "outputId": "2ed0483d-29fe-4b12-c031-56ff8dd410ed"
      },
      "execution_count": 46,
      "outputs": [
        {
          "output_type": "execute_result",
          "data": {
            "text/plain": [
              "12"
            ]
          },
          "metadata": {},
          "execution_count": 46
        }
      ]
    },
    {
      "cell_type": "markdown",
      "source": [
        "7. Write a Python program that uses the `reduce()` function to find the sum of the digits of a given number."
      ],
      "metadata": {
        "id": "NpfF_tcmc8_X"
      }
    },
    {
      "cell_type": "code",
      "source": [
        "n=input(\"enter the no.\")\n",
        "a = reduce(lambda x,y: int(x)+int(y) , n)\n",
        "a"
      ],
      "metadata": {
        "colab": {
          "base_uri": "https://localhost:8080/"
        },
        "id": "sxVyO28lc7Pw",
        "outputId": "f385e046-5423-4578-a612-e92c1e3db199"
      },
      "execution_count": 49,
      "outputs": [
        {
          "name": "stdout",
          "output_type": "stream",
          "text": [
            "enter the no.12345\n"
          ]
        },
        {
          "output_type": "execute_result",
          "data": {
            "text/plain": [
              "15"
            ]
          },
          "metadata": {},
          "execution_count": 49
        }
      ]
    },
    {
      "cell_type": "markdown",
      "source": [
        "# **Filter**"
      ],
      "metadata": {
        "id": "74ZAgEoefsIQ"
      }
    },
    {
      "cell_type": "markdown",
      "source": [
        "1. Explain the purpose of the `filter()` function in Python and provide an example of how it can be used to filter elements from an iterable."
      ],
      "metadata": {
        "id": "HfZLSprvf0D7"
      }
    },
    {
      "cell_type": "code",
      "source": [
        "'''Element in the iterable, and if the function returns True, the element is included in the resulting iterator.\n",
        "Otherwise, the element is excluded.'''\n",
        "l= [3,4,1,6,8,1,78,82]\n",
        "a = list(filter(lambda x : x if x>8 else None,l))\n",
        "a"
      ],
      "metadata": {
        "colab": {
          "base_uri": "https://localhost:8080/"
        },
        "id": "erooGozodYf1",
        "outputId": "101ff59e-fa6d-4e02-f0cd-917df0260b83"
      },
      "execution_count": 54,
      "outputs": [
        {
          "output_type": "execute_result",
          "data": {
            "text/plain": [
              "[78, 82]"
            ]
          },
          "metadata": {},
          "execution_count": 54
        }
      ]
    },
    {
      "cell_type": "markdown",
      "source": [
        "2. Write a Python program that uses the `filter()` function to select even numbers from a list of integers."
      ],
      "metadata": {
        "id": "bgDpISiujNH4"
      }
    },
    {
      "cell_type": "code",
      "source": [
        "l= [3,4,1,6,8,1,78,82]\n",
        "a = list(filter(lambda x : x%2==0 ,l))\n",
        "a"
      ],
      "metadata": {
        "colab": {
          "base_uri": "https://localhost:8080/"
        },
        "id": "EceCG7EPe_Bz",
        "outputId": "6119fe87-eb41-4504-c0c8-46d92326ff27"
      },
      "execution_count": 57,
      "outputs": [
        {
          "output_type": "execute_result",
          "data": {
            "text/plain": [
              "[4, 6, 8, 78, 82]"
            ]
          },
          "metadata": {},
          "execution_count": 57
        }
      ]
    },
    {
      "cell_type": "markdown",
      "source": [
        "3. Create a Python program that uses the `filter()` function to select names that start with a specific letter from a list of strings."
      ],
      "metadata": {
        "id": "QJNXxfAFjZJN"
      }
    },
    {
      "cell_type": "code",
      "source": [
        "l= [\"aditya\",\"gaurav\",\"aman\",\"ankit\",\"dinesh\"]\n",
        "y=input(\"enter the string\")\n",
        "a = list(filter(lambda x : x.startswith(y) ,l))\n",
        "a"
      ],
      "metadata": {
        "colab": {
          "base_uri": "https://localhost:8080/"
        },
        "id": "iQmws82mjcfJ",
        "outputId": "bbd1a7c5-5034-45d6-a5fc-8bf21b5c1fa1"
      },
      "execution_count": 58,
      "outputs": [
        {
          "name": "stdout",
          "output_type": "stream",
          "text": [
            "enter the stringa\n"
          ]
        },
        {
          "output_type": "execute_result",
          "data": {
            "text/plain": [
              "['aditya', 'aman', 'ankit']"
            ]
          },
          "metadata": {},
          "execution_count": 58
        }
      ]
    },
    {
      "cell_type": "markdown",
      "source": [
        "4. Write a Python program that uses the `filter()` function to select prime numbers from a list of integers."
      ],
      "metadata": {
        "id": "oj8vWCYTl2kp"
      }
    },
    {
      "cell_type": "code",
      "source": [
        "l= [45,44,43,71,93,55,71]\n",
        "def is_prime(x):\n",
        "  if x<2:\n",
        "    False\n",
        "  for i in range(2,x):\n",
        "    if x%i == 0:\n",
        "      return False\n",
        "  return True\n",
        "a = list(filter(is_prime,l))\n",
        "a"
      ],
      "metadata": {
        "colab": {
          "base_uri": "https://localhost:8080/"
        },
        "id": "Lva_r-nqkAMt",
        "outputId": "3058f4d5-76e0-447e-c065-f435c16ac833"
      },
      "execution_count": 65,
      "outputs": [
        {
          "output_type": "execute_result",
          "data": {
            "text/plain": [
              "[43, 71, 71]"
            ]
          },
          "metadata": {},
          "execution_count": 65
        }
      ]
    },
    {
      "cell_type": "markdown",
      "source": [
        "5. How can you use the `filter()` function to remove None values from a list in Python?"
      ],
      "metadata": {
        "id": "ZUGF_CKRpEOH"
      }
    },
    {
      "cell_type": "code",
      "source": [
        "l = [1, None, 2, None, 3, 0,\"gaurav\", 4]\n",
        "\n",
        "a = list(filter(lambda x: x != None, l))\n",
        "\n",
        "a"
      ],
      "metadata": {
        "colab": {
          "base_uri": "https://localhost:8080/"
        },
        "id": "6rO4BfL8m4rH",
        "outputId": "a110ef0a-f263-4993-e1ab-ae9c8cef314a"
      },
      "execution_count": 66,
      "outputs": [
        {
          "output_type": "execute_result",
          "data": {
            "text/plain": [
              "[1, 2, 3, 0, '', 4]"
            ]
          },
          "metadata": {},
          "execution_count": 66
        }
      ]
    },
    {
      "cell_type": "markdown",
      "source": [
        "6. Create a Python program that uses `filter()` to select words longer than a certain length from a list of strings."
      ],
      "metadata": {
        "id": "L2oZbiuysArT"
      }
    },
    {
      "cell_type": "code",
      "source": [
        "l= [\"aditya\",\"gaurav\",\"aman\",\"ankit\",\"dinesh\"]\n",
        "\n",
        "a = list(filter(lambda x : x if len(x)>4 else None , l))\n",
        "\n",
        "a\n"
      ],
      "metadata": {
        "colab": {
          "base_uri": "https://localhost:8080/"
        },
        "id": "wT9AhWa_r5U5",
        "outputId": "1e4a2f96-4024-43f2-f387-a5f8000e55f1"
      },
      "execution_count": 73,
      "outputs": [
        {
          "output_type": "execute_result",
          "data": {
            "text/plain": [
              "['aditya', 'gaurav', 'ankit', 'dinesh']"
            ]
          },
          "metadata": {},
          "execution_count": 73
        }
      ]
    },
    {
      "cell_type": "markdown",
      "source": [
        "7. Write a Python program that uses the `filter()` function to select elements greater than a specified threshold from a list of values.\n"
      ],
      "metadata": {
        "id": "dG9O1VENuGAa"
      }
    },
    {
      "cell_type": "code",
      "source": [
        "l= [\"aditya\",\"gaurav\",\"aman\",\"ankit\",\"dinesh\"]\n",
        "threshold=int(input(\"enter the length \"))\n",
        "\n",
        "a = list(filter(lambda x : x if len(x)>threshold else None , l))\n",
        "\n",
        "a\n"
      ],
      "metadata": {
        "colab": {
          "base_uri": "https://localhost:8080/"
        },
        "id": "Don6hCyosb97",
        "outputId": "45858c58-e2c9-43e3-b150-d3e27621c134"
      },
      "execution_count": 74,
      "outputs": [
        {
          "name": "stdout",
          "output_type": "stream",
          "text": [
            "enter the length 4\n"
          ]
        },
        {
          "output_type": "execute_result",
          "data": {
            "text/plain": [
              "['aditya', 'gaurav', 'ankit', 'dinesh']"
            ]
          },
          "metadata": {},
          "execution_count": 74
        }
      ]
    },
    {
      "cell_type": "code",
      "source": [],
      "metadata": {
        "id": "UY5mPDc-ukor"
      },
      "execution_count": null,
      "outputs": []
    }
  ]
}