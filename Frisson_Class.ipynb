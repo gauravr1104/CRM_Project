{
  "nbformat": 4,
  "nbformat_minor": 0,
  "metadata": {
    "colab": {
      "provenance": [],
      "authorship_tag": "ABX9TyPX5QiPjD+KRK0HaZI9hS0C",
      "include_colab_link": true
    },
    "kernelspec": {
      "name": "python3",
      "display_name": "Python 3"
    },
    "language_info": {
      "name": "python"
    }
  },
  "cells": [
    {
      "cell_type": "markdown",
      "metadata": {
        "id": "view-in-github",
        "colab_type": "text"
      },
      "source": [
        "<a href=\"https://colab.research.google.com/github/gauravr1104/CRM_Project/blob/main/Frisson_Class.ipynb\" target=\"_parent\"><img src=\"https://colab.research.google.com/assets/colab-badge.svg\" alt=\"Open In Colab\"/></a>"
      ]
    },
    {
      "cell_type": "markdown",
      "source": [
        "#String is the collection of charcater which is surrounded by single or double quote\n"
      ],
      "metadata": {
        "id": "0ayoGfc1vKRI"
      }
    },
    {
      "cell_type": "code",
      "source": [
        "a=\"hello\"\n",
        "print(type(a))"
      ],
      "metadata": {
        "colab": {
          "base_uri": "https://localhost:8080/"
        },
        "id": "ZeiQFWmrwnNE",
        "outputId": "37dc4375-2c37-4546-89ce-264fdc9982a3"
      },
      "execution_count": null,
      "outputs": [
        {
          "output_type": "stream",
          "name": "stdout",
          "text": [
            "<class 'str'>\n"
          ]
        }
      ]
    },
    {
      "cell_type": "code",
      "source": [
        "for item in a:\n",
        "  print(item)"
      ],
      "metadata": {
        "colab": {
          "base_uri": "https://localhost:8080/"
        },
        "id": "fEPlZSbswtfm",
        "outputId": "b39e8750-c384-4b75-fe2f-fe25554a1baf"
      },
      "execution_count": null,
      "outputs": [
        {
          "output_type": "stream",
          "name": "stdout",
          "text": [
            "h\n",
            "e\n",
            "l\n",
            "l\n",
            "o\n"
          ]
        }
      ]
    },
    {
      "cell_type": "code",
      "source": [
        "#slicing in string\n",
        "a=\"hello this is me.\"\n",
        "a[0:10:2]     # syntax: var_name[start:end:skip]"
      ],
      "metadata": {
        "colab": {
          "base_uri": "https://localhost:8080/",
          "height": 35
        },
        "id": "HG8etYyow9FE",
        "outputId": "50809a72-9df3-453b-a004-e3803b2d2586"
      },
      "execution_count": null,
      "outputs": [
        {
          "output_type": "execute_result",
          "data": {
            "text/plain": [
              "'hloti'"
            ],
            "application/vnd.google.colaboratory.intrinsic+json": {
              "type": "string"
            }
          },
          "metadata": {},
          "execution_count": 4
        }
      ]
    },
    {
      "cell_type": "code",
      "source": [
        "a[::-1]"
      ],
      "metadata": {
        "colab": {
          "base_uri": "https://localhost:8080/",
          "height": 35
        },
        "id": "n0_uu4WSyF-l",
        "outputId": "6743ef8c-4c86-46fd-86c5-47ff9ad2685c"
      },
      "execution_count": null,
      "outputs": [
        {
          "output_type": "execute_result",
          "data": {
            "text/plain": [
              "'.em si siht olleh'"
            ],
            "application/vnd.google.colaboratory.intrinsic+json": {
              "type": "string"
            }
          },
          "metadata": {},
          "execution_count": 5
        }
      ]
    },
    {
      "cell_type": "code",
      "source": [
        "''' modification in string :\n",
        "upper(): convert string into upper\n",
        "lower():convert string into lower\n",
        "strip(): remove extra space from string\n",
        "lstrip(): remove extra space from left side\n",
        "rstrip(): remove extra space from right side\n",
        "replace(): replace string with another string\n",
        "split(): split string into list\n",
        "join(): join list into string\n",
        "'''"
      ],
      "metadata": {
        "id": "bLURTUksyJwV",
        "colab": {
          "base_uri": "https://localhost:8080/",
          "height": 104
        },
        "outputId": "55ade66d-3d95-4e5a-bdd2-f7a7ae73b51e"
      },
      "execution_count": null,
      "outputs": [
        {
          "output_type": "execute_result",
          "data": {
            "text/plain": [
              "' modification in string :\\nupper(): convert string into upper\\nlower():convert string into lower\\nstrip(): remove extra space from string\\nlstrip(): remove extra space from left side\\nrstrip(): remove extra space from right side\\nreplace(): replace string with another string\\nsplit(): split string into list\\njoin(): join list into string\\n'"
            ],
            "application/vnd.google.colaboratory.intrinsic+json": {
              "type": "string"
            }
          },
          "metadata": {},
          "execution_count": 6
        }
      ]
    },
    {
      "cell_type": "code",
      "source": [
        "a=\"hello\"\n",
        "print(a.upper())"
      ],
      "metadata": {
        "colab": {
          "base_uri": "https://localhost:8080/"
        },
        "id": "yrCSkH4EyzbR",
        "outputId": "22f081d1-3a99-4aca-98e6-3ec7ba5ade1e"
      },
      "execution_count": null,
      "outputs": [
        {
          "output_type": "stream",
          "name": "stdout",
          "text": [
            "HELLO\n"
          ]
        }
      ]
    },
    {
      "cell_type": "code",
      "source": [
        "print(a.lower())"
      ],
      "metadata": {
        "colab": {
          "base_uri": "https://localhost:8080/"
        },
        "id": "LjU6P0hazF3M",
        "outputId": "2acbe829-9edf-4b7d-f44e-45e062f40c8f"
      },
      "execution_count": null,
      "outputs": [
        {
          "output_type": "stream",
          "name": "stdout",
          "text": [
            "hello\n"
          ]
        }
      ]
    },
    {
      "cell_type": "code",
      "source": [
        "a=\"  Hello   \"\n",
        "print(a.strip())"
      ],
      "metadata": {
        "colab": {
          "base_uri": "https://localhost:8080/"
        },
        "id": "5mRJj1MFzJQs",
        "outputId": "b65fe291-ff20-4e15-8959-f4702e26cfb0"
      },
      "execution_count": null,
      "outputs": [
        {
          "output_type": "stream",
          "name": "stdout",
          "text": [
            "Hello\n"
          ]
        }
      ]
    },
    {
      "cell_type": "code",
      "source": [
        "a=\"Hello, World\"\n",
        "a.replace(\"H\",\"J\")"
      ],
      "metadata": {
        "colab": {
          "base_uri": "https://localhost:8080/",
          "height": 35
        },
        "id": "sgtpac3TzwsB",
        "outputId": "70a51a51-228e-4e31-e3f9-54b672b3b20b"
      },
      "execution_count": null,
      "outputs": [
        {
          "output_type": "execute_result",
          "data": {
            "text/plain": [
              "'Jello, World'"
            ],
            "application/vnd.google.colaboratory.intrinsic+json": {
              "type": "string"
            }
          },
          "metadata": {},
          "execution_count": 10
        }
      ]
    },
    {
      "cell_type": "code",
      "source": [
        "a=\"Hello World Frisson Devhub\"\n",
        "a.split()"
      ],
      "metadata": {
        "colab": {
          "base_uri": "https://localhost:8080/"
        },
        "id": "SEF-2YUVz-1F",
        "outputId": "30dc73bb-cf54-4ceb-e03e-086e3261dc71"
      },
      "execution_count": null,
      "outputs": [
        {
          "output_type": "execute_result",
          "data": {
            "text/plain": [
              "['Hello', 'World', 'Frisson', 'Devhub']"
            ]
          },
          "metadata": {},
          "execution_count": 11
        }
      ]
    },
    {
      "cell_type": "code",
      "source": [
        "b=\"Hello This is , First ,  Module\"\n",
        "b.split(\",\")"
      ],
      "metadata": {
        "colab": {
          "base_uri": "https://localhost:8080/"
        },
        "id": "dPHjg8r-0av7",
        "outputId": "833a712f-caaa-461e-98c7-5178f8535953"
      },
      "execution_count": null,
      "outputs": [
        {
          "output_type": "execute_result",
          "data": {
            "text/plain": [
              "['Hello This is ', ' First ', '  Module']"
            ]
          },
          "metadata": {},
          "execution_count": 12
        }
      ]
    },
    {
      "cell_type": "code",
      "source": [
        "#Concatenatiom\n",
        "a=\"HELLO\"\n",
        "b=\"WORLD\"\n",
        "a+b"
      ],
      "metadata": {
        "colab": {
          "base_uri": "https://localhost:8080/",
          "height": 35
        },
        "id": "znkMsU1C0-aa",
        "outputId": "e091591b-0773-4505-c723-7d0ef27b8570"
      },
      "execution_count": null,
      "outputs": [
        {
          "output_type": "execute_result",
          "data": {
            "text/plain": [
              "'HELLOWORLD'"
            ],
            "application/vnd.google.colaboratory.intrinsic+json": {
              "type": "string"
            }
          },
          "metadata": {},
          "execution_count": 13
        }
      ]
    },
    {
      "cell_type": "code",
      "source": [
        "a*2"
      ],
      "metadata": {
        "colab": {
          "base_uri": "https://localhost:8080/",
          "height": 35
        },
        "id": "NV6f5mvr2DHb",
        "outputId": "339b88ca-167f-4679-9155-7f41d260e82b"
      },
      "execution_count": null,
      "outputs": [
        {
          "output_type": "execute_result",
          "data": {
            "text/plain": [
              "'HELLOHELLO'"
            ],
            "application/vnd.google.colaboratory.intrinsic+json": {
              "type": "string"
            }
          },
          "metadata": {},
          "execution_count": 14
        }
      ]
    },
    {
      "cell_type": "code",
      "source": [
        "a = 10\n",
        "b = 20\n",
        "c=a*b\n",
        "print(c)"
      ],
      "metadata": {
        "id": "rWn-Wbfq2Fj2",
        "colab": {
          "base_uri": "https://localhost:8080/"
        },
        "outputId": "52f9da17-ec0d-4d56-e05e-063d6e2f1c44"
      },
      "execution_count": null,
      "outputs": [
        {
          "output_type": "stream",
          "name": "stdout",
          "text": [
            "200\n"
          ]
        }
      ]
    },
    {
      "cell_type": "code",
      "source": [
        "x =2\n",
        "y= 5\n",
        "a=0\n",
        "x=\n",
        "y=x\n"
      ],
      "metadata": {
        "id": "UXWAQ2pn2M2H"
      },
      "execution_count": null,
      "outputs": []
    },
    {
      "cell_type": "code",
      "source": [
        "#list\n",
        "#list is a collection that store multiple data with different data type"
      ],
      "metadata": {
        "id": "ch3mlK0aLaOs"
      },
      "execution_count": null,
      "outputs": []
    },
    {
      "cell_type": "code",
      "source": [
        "l=[1,2,3,4,5,6]\n",
        "l[3:0:-1]\n",
        "y=[6,7,8]\n",
        "l+y\n",
        "l*3\n"
      ],
      "metadata": {
        "id": "Qt4-dH8JLpoA"
      },
      "execution_count": null,
      "outputs": []
    },
    {
      "cell_type": "code",
      "source": [
        "t1=(1,2,3,4)\n",
        "t2=(6,7,8)\n",
        "t1+t2\n",
        "t1*2\n"
      ],
      "metadata": {
        "id": "pGVrXYxBNenM"
      },
      "execution_count": null,
      "outputs": []
    },
    {
      "cell_type": "code",
      "source": [
        "# set: A unorder collection of unique data because unless of how we provide data in it it always give the out put of sorted elements\n",
        "#set is neither mutable nor immutable"
      ],
      "metadata": {
        "id": "eUxfQh5cPNfs"
      },
      "execution_count": null,
      "outputs": []
    },
    {
      "cell_type": "code",
      "source": [
        "s={22,32,32,33,42,31,23,77}\n",
        "s"
      ],
      "metadata": {
        "id": "wOYH4Z_1P_MB"
      },
      "execution_count": null,
      "outputs": []
    },
    {
      "cell_type": "code",
      "source": [
        " #dict:: a collection of data stpred in the form of key-value pair, dictionary give you leverage of indexing"
      ],
      "metadata": {
        "id": "xW8mbQWoQFe0"
      },
      "execution_count": null,
      "outputs": []
    },
    {
      "cell_type": "code",
      "source": [
        "d={1:\"gaurav\"}\n",
        "d"
      ],
      "metadata": {
        "id": "qerEUGW9RpGN"
      },
      "execution_count": null,
      "outputs": []
    },
    {
      "cell_type": "code",
      "source": [
        "'''list- append()- append the list at the end,\n",
        "extend()- append only elements ,\n",
        "clear()-clear the list\n",
        "insert()-do inert at a particular index\n",
        "pop()- in memory operation\n",
        "count()- count the appearance\n",
        "index()- will give the index of the element\n",
        "sort()-\n",
        "'''\n",
        "#string: find- will give -1 if elemment is not present and index- will give an error if felemnet is not found.\n",
        "\n",
        "\n",
        "l = [1,2,3,4]\n",
        "l1 = [5,3,5]\n",
        "l.extend(l1)\n",
        "l"
      ],
      "metadata": {
        "id": "EwIQ_wl4TYv1"
      },
      "execution_count": null,
      "outputs": []
    },
    {
      "cell_type": "code",
      "source": [
        "s='heloooooo'\n",
        "s.find('o')"
      ],
      "metadata": {
        "id": "M0l-Q7LjT0vW"
      },
      "execution_count": null,
      "outputs": []
    },
    {
      "cell_type": "code",
      "source": [
        "list = [1,2,2,3,4,5,5,6]\n",
        "a=[]\n",
        "count=0\n",
        "for i in list:\n",
        "  if i not in a:\n",
        "    a.append(i)\n",
        "print(a)\n",
        "\n"
      ],
      "metadata": {
        "id": "R0xlhiifW0mE"
      },
      "execution_count": null,
      "outputs": []
    },
    {
      "cell_type": "code",
      "source": [
        "'''\n",
        "operators in python\n",
        "operators are used to perform operations on variables and values.\n",
        "types of operators:\n",
        "Mathematical operators\n",
        "Comparison operators\n",
        "Logical operators\n",
        "Bitwise operators\n",
        "'''\n",
        "\n",
        "# << left shift operation do twice of number\n",
        "#>> right shift operation do half of number\n",
        "\n",
        "# is and == . \"is\" check the memory location and value, while == only checks the value"
      ],
      "metadata": {
        "colab": {
          "base_uri": "https://localhost:8080/",
          "height": 70
        },
        "id": "Ll3ZhVQ0Xpma",
        "outputId": "11834a68-394f-4b57-8de6-37488bcbc8d4"
      },
      "execution_count": null,
      "outputs": [
        {
          "output_type": "execute_result",
          "data": {
            "text/plain": [
              "' \\noperators in python\\noperators are used to perform operations on variables and values.\\ntypes of operators:\\nMathematical operators\\nComparison operators\\nLogical operators\\nBitwise operators\\n'"
            ],
            "application/vnd.google.colaboratory.intrinsic+json": {
              "type": "string"
            }
          },
          "metadata": {},
          "execution_count": 17
        }
      ]
    },
    {
      "cell_type": "code",
      "source": [
        "def sum(a,b):\n",
        "  return a+b\n",
        "def subtract(a,b):\n",
        "  return a-b\n",
        "def multiply(a,b):\n",
        "  return a*b\n",
        "def divide(a,b):\n",
        "  return a/b\n",
        "def floordivide(a,b):\n",
        "  return a//b\n",
        "def square(a,b):\n",
        "  return a**b\n",
        "\n",
        "a=int(input(\"enter the first number\"))\n",
        "b=int(input(\"enter the second number\"))"
      ],
      "metadata": {
        "id": "MD_XXswzbIs3"
      },
      "execution_count": null,
      "outputs": []
    },
    {
      "cell_type": "markdown",
      "source": [],
      "metadata": {
        "id": "tM6e9iHLf7lM"
      }
    },
    {
      "cell_type": "code",
      "source": [
        "a = int(input(\"enter the value of a:\"))\n",
        "b = int(input(\"enter the value of b:\"))\n",
        "c = input(\"Choose the operator \")\n",
        "\n",
        "if c == \"+\":\n",
        "    print(a + b)\n",
        "elif c == \"-\":\n",
        "    print(a - b)\n",
        "elif c == \"pow\":\n",
        "    print(a ** b)\n",
        "elif c == \"/\":\n",
        "    print(a / b)\n",
        "elif c==\"//\":\n",
        "    print(a//b)\n",
        "else:\n",
        "    print(\"no such operator\")"
      ],
      "metadata": {
        "colab": {
          "base_uri": "https://localhost:8080/"
        },
        "id": "LKVOBnSAf8_F",
        "outputId": "bcbf0392-26df-43b0-ab87-1415a16a8978"
      },
      "execution_count": null,
      "outputs": [
        {
          "output_type": "stream",
          "name": "stdout",
          "text": [
            "enter the value of a:4\n",
            "enter the value of b:2\n",
            "Choose the operator /\n",
            "2.0\n"
          ]
        }
      ]
    },
    {
      "cell_type": "code",
      "source": [
        "# typeddict :\n",
        "from typing import TypedDict\n",
        "\n",
        "dic={\"id\": 123}\n",
        "dic = {\"id\":\"123\"}\n",
        "\n",
        "class schema(TypedDict):\n",
        "  id: str\n",
        "  name: str\n",
        "  agr:int\n",
        "\n",
        "new_dic:schema = {\"id\":\"123\",\"name\":\"gaurav\",\"agr\":22}\n",
        "\n"
      ],
      "metadata": {
        "id": "9QO1DttKgGiH"
      },
      "execution_count": null,
      "outputs": []
    },
    {
      "cell_type": "code",
      "source": [
        "new_dic"
      ],
      "metadata": {
        "colab": {
          "base_uri": "https://localhost:8080/"
        },
        "id": "w7a8SvEJfvIR",
        "outputId": "e135c809-9511-4717-9071-d8dbea6105fa"
      },
      "execution_count": null,
      "outputs": [
        {
          "output_type": "execute_result",
          "data": {
            "text/plain": [
              "{'id': 123, 'name': 'gaurav', 'agr': 22}"
            ]
          },
          "metadata": {},
          "execution_count": 3
        }
      ]
    },
    {
      "cell_type": "code",
      "source": [
        "#loops:\n",
        "list(range(0.1,0.5,0.01))"
      ],
      "metadata": {
        "colab": {
          "base_uri": "https://localhost:8080/",
          "height": 159
        },
        "id": "MjeYC8ohf8xL",
        "outputId": "bbacfde1-c36f-4eb6-d8d4-64f4a8aee324"
      },
      "execution_count": null,
      "outputs": [
        {
          "output_type": "error",
          "ename": "TypeError",
          "evalue": "'float' object cannot be interpreted as an integer",
          "traceback": [
            "\u001b[0;31m---------------------------------------------------------------------------\u001b[0m",
            "\u001b[0;31mTypeError\u001b[0m                                 Traceback (most recent call last)",
            "\u001b[0;32m<ipython-input-4-248bb72504dd>\u001b[0m in \u001b[0;36m<cell line: 0>\u001b[0;34m()\u001b[0m\n\u001b[1;32m      1\u001b[0m \u001b[0;31m#loops:\u001b[0m\u001b[0;34m\u001b[0m\u001b[0;34m\u001b[0m\u001b[0m\n\u001b[0;32m----> 2\u001b[0;31m \u001b[0mlist\u001b[0m\u001b[0;34m(\u001b[0m\u001b[0mrange\u001b[0m\u001b[0;34m(\u001b[0m\u001b[0;36m0.1\u001b[0m\u001b[0;34m,\u001b[0m\u001b[0;36m0.5\u001b[0m\u001b[0;34m,\u001b[0m\u001b[0;36m0.01\u001b[0m\u001b[0;34m)\u001b[0m\u001b[0;34m)\u001b[0m\u001b[0;34m\u001b[0m\u001b[0;34m\u001b[0m\u001b[0m\n\u001b[0m",
            "\u001b[0;31mTypeError\u001b[0m: 'float' object cannot be interpreted as an integer"
          ]
        }
      ]
    },
    {
      "cell_type": "code",
      "source": [
        "n=int(input(\"enter a number\"))\n",
        "for index,element in enumerate(list(range(n,(n*10)+1,n))):\n",
        "  print(f\"{n}*{index+1}={element}\")"
      ],
      "metadata": {
        "colab": {
          "base_uri": "https://localhost:8080/"
        },
        "id": "j-BQzAltiBfN",
        "outputId": "a85231c2-e96e-4009-a9a7-d346fd53364e"
      },
      "execution_count": null,
      "outputs": [
        {
          "output_type": "stream",
          "name": "stdout",
          "text": [
            "enter a number6\n",
            "6*1=6\n",
            "6*2=12\n",
            "6*3=18\n",
            "6*4=24\n",
            "6*5=30\n",
            "6*6=36\n",
            "6*7=42\n",
            "6*8=48\n",
            "6*9=54\n",
            "6*10=60\n"
          ]
        }
      ]
    },
    {
      "cell_type": "code",
      "source": [],
      "metadata": {
        "colab": {
          "base_uri": "https://localhost:8080/",
          "height": 159
        },
        "id": "DZ5dKvqum_YV",
        "outputId": "c68e3e93-81eb-4b91-b2de-121581bbce4f"
      },
      "execution_count": null,
      "outputs": [
        {
          "output_type": "error",
          "ename": "AttributeError",
          "evalue": "'int' object has no attribute 'reverse'",
          "traceback": [
            "\u001b[0;31m---------------------------------------------------------------------------\u001b[0m",
            "\u001b[0;31mAttributeError\u001b[0m                            Traceback (most recent call last)",
            "\u001b[0;32m<ipython-input-6-12256657ba4c>\u001b[0m in \u001b[0;36m<cell line: 0>\u001b[0;34m()\u001b[0m\n\u001b[1;32m      1\u001b[0m \u001b[0ma\u001b[0m\u001b[0;34m=\u001b[0m\u001b[0;36m12\u001b[0m\u001b[0;34m\u001b[0m\u001b[0;34m\u001b[0m\u001b[0m\n\u001b[0;32m----> 2\u001b[0;31m \u001b[0ma\u001b[0m\u001b[0;34m.\u001b[0m\u001b[0mreverse\u001b[0m\u001b[0;34m(\u001b[0m\u001b[0;34m)\u001b[0m\u001b[0;34m\u001b[0m\u001b[0;34m\u001b[0m\u001b[0m\n\u001b[0m",
            "\u001b[0;31mAttributeError\u001b[0m: 'int' object has no attribute 'reverse'"
          ]
        }
      ]
    },
    {
      "cell_type": "code",
      "source": [
        "a=0\n",
        "while a<10:\n",
        "  print(\"gaurav\")"
      ],
      "metadata": {
        "id": "5R8mhYRXj7wn"
      },
      "execution_count": null,
      "outputs": []
    },
    {
      "cell_type": "markdown",
      "source": [
        "24. Create a program that generates a list of all palindromic numbers up to a specified limit using a list\n",
        "comprehension.\n"
      ],
      "metadata": {
        "id": "Dh3i3XxfDx69"
      }
    },
    {
      "cell_type": "code",
      "source": [
        "def palindrome(num):\n",
        "    return str(num)[::-1]\n",
        "\n",
        "\n",
        "\n"
      ],
      "metadata": {
        "colab": {
          "base_uri": "https://localhost:8080/"
        },
        "id": "0kMKsrddC-Vz",
        "outputId": "dfb540a6-3e35-47d0-a653-fe0c4cc20669"
      },
      "execution_count": null,
      "outputs": [
        {
          "output_type": "stream",
          "name": "stdout",
          "text": [
            "3\n"
          ]
        }
      ]
    },
    {
      "cell_type": "code",
      "source": [
        "# Function:\n",
        "\n",
        "# arguement types in functi\n",
        "\n"
      ],
      "metadata": {
        "id": "C0NvYgEkD8qs"
      },
      "execution_count": null,
      "outputs": []
    },
    {
      "cell_type": "code",
      "source": [
        "def calculator(x,y):\n",
        "  a=input(\"enter the calculation u want to perform\")\n",
        "  if (a=='sum'):\n",
        "    return x+y\n",
        "  if a=='multiply':\n",
        "    return x*y\n",
        "  if a=='divide':\n",
        "    return x/y\n",
        "  if a=='power':\n",
        "    return x**y\n",
        "  if a=='subtract':\n",
        "    return x-y\n",
        "\n",
        "x=int(input(\"enter the first number\"))\n",
        "y=int(input(\"enter the second number\"))\n",
        "calculator(x,y)\n",
        "\n",
        "\n"
      ],
      "metadata": {
        "colab": {
          "base_uri": "https://localhost:8080/"
        },
        "id": "D62wcbNAqIja",
        "outputId": "14c0f692-010e-47ad-b532-865e8d466691"
      },
      "execution_count": null,
      "outputs": [
        {
          "name": "stdout",
          "output_type": "stream",
          "text": [
            "enter the first number4\n",
            "enter the second number2\n",
            "enter the calculation u want to performsum\n"
          ]
        },
        {
          "output_type": "execute_result",
          "data": {
            "text/plain": [
              "6"
            ]
          },
          "metadata": {},
          "execution_count": 9
        }
      ]
    },
    {
      "cell_type": "code",
      "source": [
        "# kwargs\n",
        "def sum(**number):\n",
        "  values = number.values()\n",
        "  return(sum(number))"
      ],
      "metadata": {
        "id": "EMY5R6BhqXSI"
      },
      "execution_count": null,
      "outputs": []
    },
    {
      "cell_type": "markdown",
      "source": [
        "17.Accept a string as input. Your task is to determine if the input string is a valid password or not. For a string to be a valid password, it must satisfy all the conditions given below:\n",
        "\n",
        "(1) It should have at least 8 and at most 32 characters\n",
        "\n",
        "(2) It should start with an uppercase or lowercase letter\n",
        "\n",
        "(3) It should not have any of these characters: / \\ = ' \"\n",
        "\n",
        "(4) It should not have spaces\n",
        "\n",
        "It could have any character that is not mentioned in the list of characters to be avoided\n"
      ],
      "metadata": {
        "id": "tDJZwPZK1AXM"
      }
    },
    {
      "cell_type": "code",
      "source": [
        "import string\n",
        "import random\n",
        "def suggest_password():\n",
        "    while True:\n",
        "      a=random.choices(string.ascii_letters + string.digits, k=8)\n",
        "      a=''.join(a)\n",
        "      if a[0].isalpha():                                             #it return that password that start with alphabet\n",
        "        return(a)\n",
        "def password(pass_word):\n",
        "  if 8<=len(pass_word)<=32:\n",
        "    if 'a'<=pass_word[0]<='z' or 'A'<=pass_word[0]<='Z':\n",
        "      if '/' not in pass_word and '\\\\' not in pass_word and '=' not in pass_word and \"'\" not in pass_word and '\"' not in pass_word and ' ' not in pass_word:\n",
        "        return \"valid password \"\n",
        "      else:\n",
        "        return \" invalid password , remove special character'/\\='\\\" and the suggested passwerd is \"+suggest_password()\n",
        "    else:\n",
        "      return \"invalid password, use alphabet as first character and the suggested passwerd is \"+suggest_password()\n",
        "  else:\n",
        "    return \"invalid passwrod , password should have minimum 8 character or maximum 32 character and the suggested password is \"+suggest_password()\n",
        "\n",
        "\n",
        "pass_word=input(\"enter a password \")\n",
        "password(pass_word)"
      ],
      "metadata": {
        "colab": {
          "base_uri": "https://localhost:8080/",
          "height": 52
        },
        "id": "fYQTzcZ1xEzJ",
        "outputId": "d9fa0b8b-b34a-4904-bc1b-482f81c2d55d"
      },
      "execution_count": null,
      "outputs": [
        {
          "name": "stdout",
          "output_type": "stream",
          "text": [
            "enter a password gaurav2004=\n"
          ]
        },
        {
          "output_type": "execute_result",
          "data": {
            "text/plain": [
              "' invalid password , remove special character\\'/\\\\=\\'\" and the suggested passwerd is HOLvPY6d'"
            ],
            "application/vnd.google.colaboratory.intrinsic+json": {
              "type": "string"
            }
          },
          "metadata": {},
          "execution_count": 18
        }
      ]
    },
    {
      "cell_type": "code",
      "source": [
        "# Lambda Functiom:\n",
        "#List comprehension\n",
        "#Map,Reduce,filter\n",
        "\n",
        "#Lambda Function"
      ],
      "metadata": {
        "id": "peNsvx-r1ZRk"
      },
      "execution_count": null,
      "outputs": []
    },
    {
      "cell_type": "code",
      "source": [
        "x=lambda a,b : a if a>b else b\n",
        "x()"
      ],
      "metadata": {
        "id": "Mv2_ssnAyBmZ"
      },
      "execution_count": null,
      "outputs": []
    },
    {
      "cell_type": "code",
      "source": [
        "y= lambda a: print(a)\n",
        "\n",
        "y(a)"
      ],
      "metadata": {
        "id": "n-D6Qyz9HvIx",
        "colab": {
          "base_uri": "https://localhost:8080/"
        },
        "outputId": "baaccbb1-31c4-4fac-e230-5bf66852fe5f"
      },
      "execution_count": null,
      "outputs": [
        {
          "output_type": "stream",
          "name": "stdout",
          "text": [
            "<function <lambda> at 0x7886ff779440>\n"
          ]
        }
      ]
    },
    {
      "cell_type": "markdown",
      "source": [
        "syntac : [output : collection : condition]"
      ],
      "metadata": {
        "id": "4enj0nodzkin"
      }
    },
    {
      "cell_type": "code",
      "source": [
        "a=[1,2,3,4,5,6]\n",
        "\n",
        "even = [item if item %2 ==0 else \"the no. is odd \" for item in a]\n",
        "even"
      ],
      "metadata": {
        "colab": {
          "base_uri": "https://localhost:8080/"
        },
        "id": "lXJVXTiC2iNg",
        "outputId": "94405008-558b-436a-f982-a6e7a67d03d2"
      },
      "execution_count": null,
      "outputs": [
        {
          "output_type": "execute_result",
          "data": {
            "text/plain": [
              "['the no. is odd ', 2, 'the no. is odd ', 4, 'the no. is odd ', 6]"
            ]
          },
          "metadata": {},
          "execution_count": 16
        }
      ]
    },
    {
      "cell_type": "code",
      "source": [
        "## lambda + list comprehension\n",
        "\n",
        "even = lambda collection : [item for item in collection if item %2 ==0]\n",
        "\n"
      ],
      "metadata": {
        "id": "tAS497j72zdh"
      },
      "execution_count": null,
      "outputs": []
    },
    {
      "cell_type": "code",
      "source": [
        "even(a)"
      ],
      "metadata": {
        "colab": {
          "base_uri": "https://localhost:8080/"
        },
        "id": "U2UVVV4m4g1g",
        "outputId": "e757a4e7-3ae0-4628-9c41-75f05511798b"
      },
      "execution_count": null,
      "outputs": [
        {
          "output_type": "execute_result",
          "data": {
            "text/plain": [
              "[2, 4, 6]"
            ]
          },
          "metadata": {},
          "execution_count": 18
        }
      ]
    },
    {
      "cell_type": "code",
      "source": [
        "a=[1,2,3,4,5,6,7,8]\n",
        "add = lambda collection : sum(collection)\n",
        "add(a)\n"
      ],
      "metadata": {
        "colab": {
          "base_uri": "https://localhost:8080/"
        },
        "id": "vaGELu4Y5CgR",
        "outputId": "bea36611-f1c0-49ad-db2d-4e1375e8b6d0"
      },
      "execution_count": null,
      "outputs": [
        {
          "output_type": "execute_result",
          "data": {
            "text/plain": [
              "36"
            ]
          },
          "metadata": {},
          "execution_count": 21
        }
      ]
    },
    {
      "cell_type": "code",
      "source": [],
      "metadata": {
        "id": "LgRo2l5H5hes"
      },
      "execution_count": null,
      "outputs": []
    },
    {
      "cell_type": "code",
      "source": [
        "l1 = list()"
      ],
      "metadata": {
        "id": "zVCF5cQ_5jcP"
      },
      "execution_count": null,
      "outputs": []
    },
    {
      "cell_type": "code",
      "source": [
        "#reduce\n",
        "from functools import reduce\n",
        "l=[1,2,3,4,5]\n",
        "\n",
        "result = reduce(lambda x,y : x*y , l)\n",
        "result\n"
      ],
      "metadata": {
        "colab": {
          "base_uri": "https://localhost:8080/"
        },
        "id": "x66YOm5uP4aI",
        "outputId": "a6a64381-7920-4139-fae8-68063c398282"
      },
      "execution_count": null,
      "outputs": [
        {
          "output_type": "execute_result",
          "data": {
            "text/plain": [
              "120"
            ]
          },
          "metadata": {},
          "execution_count": 4
        }
      ]
    },
    {
      "cell_type": "code",
      "source": [
        "n=4\n",
        "fact =  reduce(lambda x,y : x*y , range(1,n+1))\n",
        "fact"
      ],
      "metadata": {
        "colab": {
          "base_uri": "https://localhost:8080/"
        },
        "id": "8M5K8Q_MQBbl",
        "outputId": "3889dc69-4b11-40bc-ce3f-8ea74c4bc5e5"
      },
      "execution_count": null,
      "outputs": [
        {
          "output_type": "execute_result",
          "data": {
            "text/plain": [
              "24"
            ]
          },
          "metadata": {},
          "execution_count": 6
        }
      ]
    },
    {
      "cell_type": "code",
      "source": [
        "l=[3,4,1,6,8,1,2,5,4]\n",
        "a=[i for i in l if i%2==0]\n",
        "fact = reduce(lambda x,y: x*y , a)\n",
        "fact"
      ],
      "metadata": {
        "colab": {
          "base_uri": "https://localhost:8080/"
        },
        "id": "jPHU0KNrRHk8",
        "outputId": "560b3738-28d2-4ee8-e5f1-688b589d49b6"
      },
      "execution_count": null,
      "outputs": [
        {
          "output_type": "execute_result",
          "data": {
            "text/plain": [
              "1536"
            ]
          },
          "metadata": {},
          "execution_count": 15
        }
      ]
    },
    {
      "cell_type": "code",
      "source": [
        "l=[3,4,5,1,7,5,3,2]\n",
        "even_elements = list(filter(lambda x : x if x%2 ==0 else None , l ))\n",
        "even_elements\n"
      ],
      "metadata": {
        "colab": {
          "base_uri": "https://localhost:8080/"
        },
        "id": "4kcDeCayRkfj",
        "outputId": "236b50ab-1b7d-435e-d25c-0c97de5762c4"
      },
      "execution_count": null,
      "outputs": [
        {
          "output_type": "execute_result",
          "data": {
            "text/plain": [
              "[4, 2]"
            ]
          },
          "metadata": {},
          "execution_count": 17
        }
      ]
    },
    {
      "cell_type": "code",
      "source": [
        "l= [3,4,1,6,8,1,78,82]\n",
        "gt_8 = list(filter(lambda x : x if x>8 else None,l))\n",
        "gt_8"
      ],
      "metadata": {
        "colab": {
          "base_uri": "https://localhost:8080/"
        },
        "id": "2MDOcyrdVX-M",
        "outputId": "eeceb5a3-53d7-4849-c1a8-63158809a79d"
      },
      "execution_count": null,
      "outputs": [
        {
          "output_type": "execute_result",
          "data": {
            "text/plain": [
              "[78, 82]"
            ]
          },
          "metadata": {},
          "execution_count": 20
        }
      ]
    },
    {
      "cell_type": "code",
      "source": [
        "# two types of error : 1. syntactical or logical  2. Runtime Error\n",
        "# try  except  else   finally   raise"
      ],
      "metadata": {
        "id": "nJJyrTomVr6A"
      },
      "execution_count": 1,
      "outputs": []
    },
    {
      "cell_type": "code",
      "source": [
        "try:\n",
        "  a=10\n",
        "  b=0\n",
        "  c= a/b\n",
        "except Exception as e:\n",
        "  print(\"we are in except\",e)\n",
        "  pass\n",
        "print(\"hello \")"
      ],
      "metadata": {
        "id": "6yYgEtRxZFuV",
        "colab": {
          "base_uri": "https://localhost:8080/"
        },
        "outputId": "40dada62-a525-48e8-d50f-ffc9a8a912b6"
      },
      "execution_count": 8,
      "outputs": [
        {
          "output_type": "stream",
          "name": "stdout",
          "text": [
            "we are in except division by zero\n",
            "hello \n"
          ]
        }
      ]
    },
    {
      "cell_type": "code",
      "source": [
        "#Zerodivision , ValueError ----> Exception\n",
        "try:\n",
        "  a=10\n",
        "  b=0\n",
        "  c= a/b\n",
        "except ZeroDivisionError as e:\n",
        "  print(\"we can't divide any number by 0\")\n",
        "except ValueError as V:\n",
        "  print('ValueError')\n"
      ],
      "metadata": {
        "colab": {
          "base_uri": "https://localhost:8080/"
        },
        "id": "nxz0Cq70Xedr",
        "outputId": "798bb603-f435-4c99-fe50-de063d0afc5c"
      },
      "execution_count": 10,
      "outputs": [
        {
          "output_type": "stream",
          "name": "stdout",
          "text": [
            "we can't divide any number by 0\n"
          ]
        }
      ]
    },
    {
      "cell_type": "code",
      "source": [
        "#else block:\n",
        "\n",
        "#else block: it will execute only if try block execute without any error\n",
        "\n",
        "try:\n",
        "  a= int(input(\"enter a no. from range 1 to 10\"))\n",
        "  b= int(input(\"enter another no.\"))\n",
        "  c=a/b\n",
        "  print('output is:',c)\n",
        "except ZeroDivisionError as z:\n",
        "  print(z)\n",
        "  pass\n",
        "except ValueError as V:\n",
        "  print(V)\n",
        "  pass\n",
        "else:\n",
        "  print(\"thank you\")\n"
      ],
      "metadata": {
        "colab": {
          "base_uri": "https://localhost:8080/"
        },
        "id": "whiNX3CKY2FO",
        "outputId": "41863015-7817-4064-ba9c-5963abb1be7a"
      },
      "execution_count": 13,
      "outputs": [
        {
          "output_type": "stream",
          "name": "stdout",
          "text": [
            "enter a no. from range 1 to 10100\n",
            "enter another no.2\n",
            "output is: 50.0\n",
            "thank you\n"
          ]
        }
      ]
    },
    {
      "cell_type": "code",
      "source": [
        "# finally : this block execute always whether try block have error or not"
      ],
      "metadata": {
        "id": "Z14E5Pp7aBhR"
      },
      "execution_count": 14,
      "outputs": []
    },
    {
      "cell_type": "code",
      "source": [
        "try:\n",
        "  a= int(input(\"enter a no.\"))\n",
        "  b= int(input(\"enter another no.\"))\n",
        "  c=a/b\n",
        "  print('output is:',c)\n",
        "except ZeroDivisionError as z:\n",
        "  print(z)\n",
        "  pass\n",
        "except ValueError as V:\n",
        "  print(V)\n",
        "  pass\n",
        "else:\n",
        "  print(\"thank you\")\n",
        "finally:\n",
        "  print(\"we are in finally\")"
      ],
      "metadata": {
        "colab": {
          "base_uri": "https://localhost:8080/"
        },
        "id": "fAxJzDNabYUF",
        "outputId": "33d0ff45-3779-40ab-ba0b-b3e6cfc8bc05"
      },
      "execution_count": 16,
      "outputs": [
        {
          "output_type": "stream",
          "name": "stdout",
          "text": [
            "enter a no.100\n",
            "enter another no.0\n",
            "division by zero\n",
            "we are in finally\n"
          ]
        }
      ]
    },
    {
      "cell_type": "code",
      "source": [
        "# custom exception :  1.) Raise    2.)"
      ],
      "metadata": {
        "id": "zrKZsDI8bihk"
      },
      "execution_count": 17,
      "outputs": []
    },
    {
      "cell_type": "code",
      "source": [
        "try:\n",
        "  a=int(input(\"enter your height\"))\n",
        "  if a < 0:\n",
        "    raise ValueError(\"Height can't be negative\")\n",
        "  print(\"your height is\",a)\n",
        "except Exception as e:\n",
        "  print(e,\"inside except\")\n",
        "  pass\n"
      ],
      "metadata": {
        "colab": {
          "base_uri": "https://localhost:8080/"
        },
        "id": "F8MYro6Eb-jm",
        "outputId": "675de63e-b224-4f52-fd2a-02b358e07560"
      },
      "execution_count": 21,
      "outputs": [
        {
          "output_type": "stream",
          "name": "stdout",
          "text": [
            "enter your height-4\n",
            "Height can't be negative inside except\n"
          ]
        }
      ]
    },
    {
      "cell_type": "code",
      "source": [
        "from logging import WARNING\n",
        "# zerodivisionerror (not possible to overwrite it's message)\n",
        "# explore the classes which can't overwrite\n",
        "\n",
        "#logging:\n",
        "\n",
        "1. DEBUG : 10\n",
        "2. INFO : 20\n",
        "3. WARNING: 30\n",
        "4. ERROR : 40\n",
        "5. CRITICAL: 50\n"
      ],
      "metadata": {
        "id": "bfEUr0Q_clV8"
      },
      "execution_count": 22,
      "outputs": []
    },
    {
      "cell_type": "code",
      "source": [
        "# class is a blueprint to create objects , laymen terms :anything that you can classified in class\n"
      ],
      "metadata": {
        "id": "Fq0KI1KSdXPq"
      },
      "execution_count": 2,
      "outputs": []
    },
    {
      "cell_type": "code",
      "source": [
        "## modular vs oops:\n",
        "#1 code maintainance vs oops\n",
        "#code maintainance is easy structured , reusability\n",
        "\n",
        "#preprocessing - data mai se puntuations\n",
        "#main.py - data\n",
        "#production level code"
      ],
      "metadata": {
        "id": "pnmA3ZMMh0OS"
      },
      "execution_count": 4,
      "outputs": []
    },
    {
      "cell_type": "code",
      "source": [
        "# syntax:\n",
        "#self is a pointer that always pointing to it's class or it bind a method with its class\n",
        "class class_name:\n",
        "  def method(self):\n",
        "    pass\n",
        "  def method2(self):\n",
        "    pass\n",
        "\n",
        "\n",
        "\n"
      ],
      "metadata": {
        "id": "h9Oje3CSi-3S"
      },
      "execution_count": 8,
      "outputs": []
    },
    {
      "cell_type": "code",
      "source": [
        "class Student:\n",
        "  def student_class(self,student_class):\n",
        "    return f\"Student belongs to class{student_class}\"\n",
        "  def student_course(self,student_course):\n",
        "    return f\"student is enrolled for this course: {student_course}\"\n"
      ],
      "metadata": {
        "id": "inwGvM90j3U6"
      },
      "execution_count": 11,
      "outputs": []
    },
    {
      "cell_type": "markdown",
      "source": [],
      "metadata": {
        "id": "4vcYiTX-lkkK"
      }
    },
    {
      "cell_type": "code",
      "source": [
        "student_object"
      ],
      "metadata": {
        "id": "hsOM4r2Tklya"
      },
      "execution_count": null,
      "outputs": []
    },
    {
      "cell_type": "code",
      "source": [
        "\n",
        "class Student:\n",
        "  st_class = '10'\n",
        "  st_course = 'Data Science'\n",
        "  def student_class(self,student_class=None):\n",
        "    return f\"Student belongs to class{student_class}\"\n",
        "  def student_course(self,student_course= None):\n",
        "    return f\"student is enrolled for this course: {student_course}\"\n"
      ],
      "metadata": {
        "id": "VVdBUM3JlfGj"
      },
      "execution_count": 14,
      "outputs": []
    },
    {
      "cell_type": "code",
      "source": [
        "student_object = Student()"
      ],
      "metadata": {
        "id": "16decLKmmgsq"
      },
      "execution_count": 15,
      "outputs": []
    },
    {
      "cell_type": "code",
      "source": [
        "student_object.student_class(student_object.st_class)"
      ],
      "metadata": {
        "colab": {
          "base_uri": "https://localhost:8080/",
          "height": 35
        },
        "id": "ZMjzvXCMmxze",
        "outputId": "161f34c7-744b-4049-8e04-c480cc84fd84"
      },
      "execution_count": 16,
      "outputs": [
        {
          "output_type": "execute_result",
          "data": {
            "text/plain": [
              "'Student belongs to class10'"
            ],
            "application/vnd.google.colaboratory.intrinsic+json": {
              "type": "string"
            }
          },
          "metadata": {},
          "execution_count": 16
        }
      ]
    },
    {
      "cell_type": "code",
      "source": [
        "#constructure : which is used to initialize your class variable with the value that you passed while creating the same class object"
      ],
      "metadata": {
        "id": "RaiB8ihPm4yH"
      },
      "execution_count": 18,
      "outputs": []
    },
    {
      "cell_type": "code",
      "source": [
        "class Student:\n",
        "  def __init__(self,st_class,st_course):\n",
        "    self.st_class=st_class\n",
        "    self.st_course = st_course\n",
        "  def student_class(self,student_class=None):\n",
        "    return f\"Student belongs to class{student_class}\"\n",
        "  def student_course(self,student_course= None):\n",
        "    return f\"student is enrolled for this course: {student_course}\"\n"
      ],
      "metadata": {
        "id": "J49zbUfqndud"
      },
      "execution_count": 20,
      "outputs": []
    },
    {
      "cell_type": "code",
      "source": [
        "student_2=Student('10','DataScience')"
      ],
      "metadata": {
        "id": "qRRrGQ6SoPMu"
      },
      "execution_count": 21,
      "outputs": []
    },
    {
      "cell_type": "code",
      "source": [
        "student_object.st_class"
      ],
      "metadata": {
        "colab": {
          "base_uri": "https://localhost:8080/",
          "height": 35
        },
        "id": "F3yCZHXWoXn5",
        "outputId": "216c0e94-6ba4-47a1-f41d-a32501dac603"
      },
      "execution_count": 22,
      "outputs": [
        {
          "output_type": "execute_result",
          "data": {
            "text/plain": [
              "'10'"
            ],
            "application/vnd.google.colaboratory.intrinsic+json": {
              "type": "string"
            }
          },
          "metadata": {},
          "execution_count": 22
        }
      ]
    },
    {
      "cell_type": "code",
      "source": [
        "class Bank_account:\n",
        "  def __init__(self,b_name,b_accnumber,b_balance):\n",
        "    self.b_name= b_name\n",
        "    self.b_accnumber= b_accnumber\n",
        "    self.b_balance= b_balance\n",
        "  def deposit_money(self,deposit_money):\n",
        "    if deposit_money > 0:\n",
        "            self.b_balance += deposit_money\n",
        "    return f\"{self.b_name} have deposit {deposit_money} and total balance is {self.b_balance}\"\n",
        "  def withdraw_money(self,withdraw_money):\n",
        "    if withdraw_money > self.balance:\n",
        "            return \"Insufficient balance\"\n",
        "    else:\n",
        "      self.b_balance -= withdraw_money\n",
        "      return f\"{self.b_name} have withdraw {withdraw_money} and total balance is {self.b_balance}\"\n"
      ],
      "metadata": {
        "id": "3Uw5utvSofWH"
      },
      "execution_count": 7,
      "outputs": []
    },
    {
      "cell_type": "code",
      "source": [
        "Bank_details = Bank_account(\"Aditya\", 562837645,40000)\n",
        "\n",
        "Bank_details.deposit_money(500)"
      ],
      "metadata": {
        "colab": {
          "base_uri": "https://localhost:8080/",
          "height": 35
        },
        "id": "bouxWR-uqC4d",
        "outputId": "dd608a9c-3171-487f-bc85-cc20a5351348"
      },
      "execution_count": 6,
      "outputs": [
        {
          "output_type": "execute_result",
          "data": {
            "text/plain": [
              "'Aditya have deposit 500 and total balance is 40500'"
            ],
            "application/vnd.google.colaboratory.intrinsic+json": {
              "type": "string"
            }
          },
          "metadata": {},
          "execution_count": 6
        }
      ]
    },
    {
      "cell_type": "code",
      "source": [
        "# inherit\n",
        "class student:\n",
        "  def lecture(self):\n",
        "    print(\"lecture\")\n",
        "  def lecture_timing(self):\n",
        "    print(\"lecturee_timing\")\n",
        "class teacher(student):\n",
        "  def teacher_name(self):\n",
        "    print('teacher_name')\n",
        "\n",
        "teacher_obj = teacher()"
      ],
      "metadata": {
        "id": "wK8cvi2yppxv"
      },
      "execution_count": 4,
      "outputs": []
    },
    {
      "cell_type": "code",
      "source": [
        "teacher_obj.lecture(),teacher_obj.lecture_timing()"
      ],
      "metadata": {
        "colab": {
          "base_uri": "https://localhost:8080/"
        },
        "id": "44-8-jnksZxP",
        "outputId": "5b3b73ee-f479-4f5e-fd20-aa8efe959e72"
      },
      "execution_count": 5,
      "outputs": [
        {
          "output_type": "stream",
          "name": "stdout",
          "text": [
            "lecture\n",
            "lecturee_timing\n"
          ]
        },
        {
          "output_type": "execute_result",
          "data": {
            "text/plain": [
              "(None, None)"
            ]
          },
          "metadata": {},
          "execution_count": 5
        }
      ]
    },
    {
      "cell_type": "code",
      "source": [
        "# 1. Multilevel Inheritance\n",
        "# 2. Multiple Inheritance"
      ],
      "metadata": {
        "id": "5abrvG__tVVr"
      },
      "execution_count": 6,
      "outputs": []
    },
    {
      "cell_type": "code",
      "source": [
        "#Multilevel Inheritance:\n",
        "class lecture:\n",
        "  def timing():\n",
        "    print(\"lecture timing is 12:00 noon\")\n",
        "  def end_time():\n",
        "    print('lecture end_time is 1:00 pm')\n",
        "class student:\n",
        "  def timing():\n",
        "    print(\"lecture timing is 12:00 noon\")\n",
        "  def student_details(self):\n",
        "    print('this will give student details')\n",
        "class teacher(lecture,student):\n",
        "  def teacher_details(self):\n",
        "    print('this will give teacher details')\n",
        "\n"
      ],
      "metadata": {
        "id": "MTASrSkwtmd4"
      },
      "execution_count": 7,
      "outputs": []
    },
    {
      "cell_type": "code",
      "source": [
        "#super() method: to avoid the reassignment of the same valuein child class , it should be used if the same value is not used in class\n",
        "class Frisson:\n",
        "  def __init__(self,mentor) :\n",
        "    self.mentor = mentor\n",
        "  def mentor_name(self):\n",
        "    return self.mentor\n",
        "\n",
        "class DataScience(Frisson):\n",
        "  def __init__(self,mentor,mentor_id):\n",
        "    #self.mentor=mentor\n",
        "    super().__init__(mentor)\n",
        "    self.mentor_id=mentor_id\n",
        "  def show_info(self):\n",
        "    return self.mentor , self.mentor_id"
      ],
      "metadata": {
        "id": "N29mo1QOxscf"
      },
      "execution_count": 2,
      "outputs": []
    },
    {
      "cell_type": "markdown",
      "source": [
        "## **OR**"
      ],
      "metadata": {
        "id": "tlI1KEVrEuG1"
      }
    },
    {
      "cell_type": "code",
      "source": [
        "class Frisson:\n",
        "  def __init__(self,mentor) :\n",
        "    self.mentor = mentor\n",
        "  def mentor_name(self):\n",
        "    return self.mentor\n",
        "\n",
        "class DataScience(Frisson):\n",
        "  def __init__(self,mentor,mentor_id):\n",
        "    #self.mentor=mentor\n",
        "    super().mentor = mentor\n",
        "    self.mentor_id=mentor_id\n",
        "  def show_info(self):\n",
        "    return self.mentor , self.mentor_id"
      ],
      "metadata": {
        "id": "KJDpIS8qEbwb"
      },
      "execution_count": 4,
      "outputs": []
    }
  ]
}